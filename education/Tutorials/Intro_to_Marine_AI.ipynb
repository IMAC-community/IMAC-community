{
 "cells": [
  {
   "cell_type": "markdown",
   "metadata": {},
   "source": [
    "![iMAC Logo](../../../Core/logo.png)\n",
    "\n",
    "**iMAC Mission:** The International Marine AI Consortium aims to advance ocean science and conservation through collaborative development of open-source AI solutions and widespread knowledge sharing.\n",
    "\n",
    "**Notebook Purpose:** An introductory tutorial to the fundamental concepts of Artificial Intelligence as applied to marine science, covering basic terminology, common AI tasks, and example use cases in oceanography and marine biology.\n",
    "\n",
    "**Metadata:** {\"module\": \"Education\", \"subdomain\": \"Tutorials\", \"topic\": \"Introduction to Marine AI\", \"level\": \"Beginner\", \"input_context\": [\"data:example_marine_dataset.csv\"], \"output_context\": [\"report:learning_summary.md\", \"notebook:completed_exercises.ipynb\"]}"
   ]
  }
 ],
 "metadata": {
  "kernelspec": {
   "display_name": "Python 3",
   "language": "python",
   "name": "python3"
  },
  "language_info": {
   "codemirror_mode": {
    "name": "ipython",
    "version": 3
   },
   "file_extension": ".py",
   "mimetype": "text/x-python",
   "name": "python",
   "nbconvert_exporter": "python",
   "pygments_lexer": "ipython3",
   "version": "3.10.0"
  }
 },
 "nbformat": 4,
 "nbformat_minor": 2
}
